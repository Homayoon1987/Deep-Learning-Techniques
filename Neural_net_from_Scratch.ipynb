{
 "cells": [
  {
   "cell_type": "markdown",
   "metadata": {},
   "source": [
    "# Neural Network from Scratch"
   ]
  },
  {
   "cell_type": "markdown",
   "metadata": {},
   "source": [
    "In this notebook I will manually build a neural network\n",
    "architecture that is like Tensorflow API."
   ]
  },
  {
   "cell_type": "markdown",
   "metadata": {},
   "source": [
    "Before starting I will review some OOP concepts that \n",
    "become handy later on."
   ]
  },
  {
   "cell_type": "markdown",
   "metadata": {},
   "source": [
    "## Class and Methods"
   ]
  },
  {
   "cell_type": "code",
   "execution_count": 167,
   "metadata": {},
   "outputs": [
    {
     "name": "stdout",
     "output_type": "stream",
     "text": [
      "In inherited class\n"
     ]
    }
   ],
   "source": [
    "class SimpleClass():  # Class declaration\n",
    "    def __init__(self):  # Method declaration\n",
    "        print(\"hello from simple class\")\n",
    "        \n",
    "    def shout(self):\n",
    "        print(\"Shouting from simple class\")\n",
    "        \n",
    "\n",
    "class inherited_class(SimpleClass): # Inheritance\n",
    "    def __init__(self):\n",
    "        print(\"In inherited class\") # inherited_class has it's own __init__ method\n",
    "                                    # but inherit the shout method from simple class\n",
    "\n",
    "c = inherited_class()"
   ]
  },
  {
   "cell_type": "markdown",
   "metadata": {},
   "source": [
    "Now lets inherit the __init__ method from SimpleClass as well"
   ]
  },
  {
   "cell_type": "code",
   "execution_count": 168,
   "metadata": {},
   "outputs": [
    {
     "name": "stdout",
     "output_type": "stream",
     "text": [
      "hello from simple class\n",
      "Shouting from simple class\n"
     ]
    }
   ],
   "source": [
    "class inherited_class(SimpleClass):\n",
    "    def __init__(self):\n",
    "        super().__init__()\n",
    "\n",
    "c = inherited_class()\n",
    "c.shout()"
   ]
  },
  {
   "cell_type": "markdown",
   "metadata": {},
   "source": [
    "## Operation"
   ]
  },
  {
   "cell_type": "code",
   "execution_count": 169,
   "metadata": {
    "collapsed": true
   },
   "outputs": [],
   "source": [
    "class Operation():\n",
    "    \"\"\"\n",
    "    An Operation is a node in a \"Graph\". TensorFlow will also use this concept of a Graph.\n",
    "    \n",
    "    This Operation class will be inherited by other classes that actually compute the specific\n",
    "    operation, such as adding or matrix multiplication.\n",
    "    \"\"\"\n",
    "    \n",
    "    def __init__(self, input_nodes = []):\n",
    "        \"\"\"\n",
    "        Intialize an Operation\n",
    "        \"\"\"\n",
    "        self.input_nodes = input_nodes # The list of input nodes\n",
    "        self.output_nodes = [] # List of nodes consuming this node's output\n",
    "        \n",
    "        # For every node in the input, we append this operation (self) to the list of\n",
    "        # the consumers of the input nodes\n",
    "        for node in input_nodes:\n",
    "            node.output_nodes.append(self)\n",
    "        \n",
    "        # There will be a global default graph (TensorFlow works this way)\n",
    "        # We will then append this particular operation\n",
    "        # Append this operation to the list of operations in the currently active default graph\n",
    "        _default_graph.operations.append(self)\n",
    "  \n",
    "    def compute(self):\n",
    "        \"\"\" \n",
    "        This is a placeholder function. It will be overwritten by the actual specific operation\n",
    "        that inherits from this class.\n",
    "        \n",
    "        \"\"\"\n",
    "        \n",
    "        pass"
   ]
  },
  {
   "cell_type": "markdown",
   "metadata": {},
   "source": [
    "Now let's create Addition, Multiplication and Matrix Multiplication"
   ]
  },
  {
   "cell_type": "markdown",
   "metadata": {},
   "source": [
    "### Addition"
   ]
  },
  {
   "cell_type": "code",
   "execution_count": 170,
   "metadata": {
    "collapsed": true
   },
   "outputs": [],
   "source": [
    "class add(Operation):\n",
    "    \n",
    "    def __init__(self, x, y):\n",
    "         \n",
    "        super().__init__([x, y])\n",
    "\n",
    "    def compute(self, x_var, y_var):\n",
    "         \n",
    "        self.inputs = [x_var, y_var]\n",
    "        return x_var + y_var"
   ]
  },
  {
   "cell_type": "markdown",
   "metadata": {},
   "source": [
    "### Multiplication"
   ]
  },
  {
   "cell_type": "code",
   "execution_count": 171,
   "metadata": {
    "collapsed": true
   },
   "outputs": [],
   "source": [
    "class multiply(Operation):\n",
    "     \n",
    "    def __init__(self, a, b):\n",
    "        \n",
    "        super().__init__([a, b])\n",
    "    \n",
    "    def compute(self, a_var, b_var):\n",
    "         \n",
    "        self.inputs = [a_var, b_var]\n",
    "        return a_var * b_var"
   ]
  },
  {
   "cell_type": "markdown",
   "metadata": {},
   "source": [
    "### Matrix Multiplication"
   ]
  },
  {
   "cell_type": "code",
   "execution_count": 172,
   "metadata": {
    "collapsed": true
   },
   "outputs": [],
   "source": [
    "class matmul(Operation):\n",
    "     \n",
    "    def __init__(self, a, b):\n",
    "        \n",
    "        super().__init__([a, b])\n",
    "    \n",
    "    def compute(self, a_mat, b_mat):\n",
    "         \n",
    "        self.inputs = [a_mat, b_mat]\n",
    "        return a_mat.dot(b_mat)"
   ]
  },
  {
   "cell_type": "markdown",
   "metadata": {},
   "source": [
    "## Placeholders (Node)"
   ]
  },
  {
   "cell_type": "markdown",
   "metadata": {},
   "source": [
    "are empty node that needs a value to be provided \n",
    "to compute output"
   ]
  },
  {
   "cell_type": "code",
   "execution_count": 173,
   "metadata": {},
   "outputs": [],
   "source": [
    "class Placeholder():\n",
    "    \"\"\"\n",
    "    A placeholder is a node that needs to be provided a value for computing the output in the Graph.\n",
    "    \"\"\"\n",
    "    \n",
    "    def __init__(self):\n",
    "        \n",
    "        self.output_nodes = []\n",
    "        \n",
    "        _default_graph.placeholders.append(self)"
   ]
  },
  {
   "cell_type": "markdown",
   "metadata": {},
   "source": [
    "## Variables (Weight)"
   ]
  },
  {
   "cell_type": "code",
   "execution_count": 174,
   "metadata": {
    "collapsed": true
   },
   "outputs": [],
   "source": [
    "class Variable():\n",
    "    \"\"\"\n",
    "    This variable is a changeable parameter of the Graph.\n",
    "    \"\"\"\n",
    "    \n",
    "    def __init__(self, initial_value = None):\n",
    "        \n",
    "        self.value = initial_value\n",
    "        self.output_nodes = []\n",
    "        \n",
    "         \n",
    "        _default_graph.variables.append(self)"
   ]
  },
  {
   "cell_type": "markdown",
   "metadata": {},
   "source": [
    "## Graph"
   ]
  },
  {
   "cell_type": "markdown",
   "metadata": {},
   "source": [
    "is a Global variable connecting variables and placeholders to operations"
   ]
  },
  {
   "cell_type": "code",
   "execution_count": 175,
   "metadata": {
    "collapsed": true
   },
   "outputs": [],
   "source": [
    "class Graph():\n",
    "    \n",
    "    \n",
    "    def __init__(self):\n",
    "        \n",
    "        self.operations = []\n",
    "        self.placeholders = []\n",
    "        self.variables = []\n",
    "        \n",
    "    def set_as_default(self):\n",
    "        \"\"\"\n",
    "        Sets this Graph instance as the Global Default Graph\n",
    "        \"\"\"\n",
    "        global _default_graph\n",
    "        _default_graph = self"
   ]
  },
  {
   "cell_type": "markdown",
   "metadata": {},
   "source": [
    "## Now lets make a simple graph"
   ]
  },
  {
   "cell_type": "markdown",
   "metadata": {},
   "source": [
    "$$ z = Ax + b $$\n",
    "\n",
    "With A=10 and b=1\n",
    "\n",
    "$$ z = 10x + 1 $$\n",
    "\n",
    "Just need a placeholder for x and then once x is filled in we can solve it!"
   ]
  },
  {
   "cell_type": "markdown",
   "metadata": {},
   "source": [
    "Here x is a placeholder and two operations (addition,multiplication) are involved"
   ]
  },
  {
   "cell_type": "code",
   "execution_count": 176,
   "metadata": {},
   "outputs": [],
   "source": [
    "g = Graph()"
   ]
  },
  {
   "cell_type": "code",
   "execution_count": 177,
   "metadata": {},
   "outputs": [],
   "source": [
    "g.set_as_default()"
   ]
  },
  {
   "cell_type": "code",
   "execution_count": 178,
   "metadata": {},
   "outputs": [],
   "source": [
    "A = Variable(10)"
   ]
  },
  {
   "cell_type": "code",
   "execution_count": 179,
   "metadata": {
    "collapsed": true
   },
   "outputs": [],
   "source": [
    "b = Variable(1)"
   ]
  },
  {
   "cell_type": "code",
   "execution_count": 180,
   "metadata": {
    "collapsed": true
   },
   "outputs": [],
   "source": [
    "x = Placeholder()"
   ]
  },
  {
   "cell_type": "code",
   "execution_count": 181,
   "metadata": {},
   "outputs": [],
   "source": [
    "y = multiply(A,x)"
   ]
  },
  {
   "cell_type": "code",
   "execution_count": 182,
   "metadata": {},
   "outputs": [],
   "source": [
    "z = add(y,b)"
   ]
  },
  {
   "cell_type": "markdown",
   "metadata": {},
   "source": [
    "Now we need to actually get the nodes and traverse the graph"
   ]
  },
  {
   "cell_type": "markdown",
   "metadata": {},
   "source": [
    "### Traversing Operation Nodes"
   ]
  },
  {
   "cell_type": "code",
   "execution_count": 183,
   "metadata": {
    "collapsed": true
   },
   "outputs": [],
   "source": [
    "import numpy as np"
   ]
  },
  {
   "cell_type": "code",
   "execution_count": 184,
   "metadata": {
    "collapsed": true
   },
   "outputs": [],
   "source": [
    "def traverse_postorder(operation):\n",
    "    \"\"\" \n",
    "    PostOrder Traversal of Nodes. Basically makes sure computations are done in \n",
    "    the correct order (Ax first , then Ax + b). \n",
    "    \"\"\"\n",
    "    \n",
    "    nodes_postorder = []\n",
    "    def recurse(node):\n",
    "        if isinstance(node, Operation):\n",
    "            for input_node in node.input_nodes:\n",
    "                recurse(input_node)\n",
    "        nodes_postorder.append(node)\n",
    "\n",
    "    recurse(operation)\n",
    "    return nodes_postorder"
   ]
  },
  {
   "cell_type": "markdown",
   "metadata": {},
   "source": [
    "Now we create a session class "
   ]
  },
  {
   "cell_type": "code",
   "execution_count": 185,
   "metadata": {
    "collapsed": true
   },
   "outputs": [],
   "source": [
    "class Session():\n",
    "    \n",
    "    def run(self, operation, feed_dict = {}):\n",
    "        \"\"\" \n",
    "          operation: The operation to compute\n",
    "          feed_dict: Dictionary mapping placeholders to input values (the data)  \n",
    "        \"\"\"\n",
    "        \n",
    "        # Puts nodes in correct order\n",
    "        nodes_postorder = traverse_postorder(operation)\n",
    "        \n",
    "        for node in nodes_postorder:\n",
    "\n",
    "            if type(node) == Placeholder:\n",
    "                \n",
    "                node.output = feed_dict[node]\n",
    "                \n",
    "            elif type(node) == Variable:\n",
    "                \n",
    "                node.output = node.value\n",
    "                \n",
    "            else: # Operation\n",
    "                \n",
    "                node.inputs = [input_node.output for input_node in node.input_nodes]\n",
    "\n",
    "                 \n",
    "                node.output = node.compute(*node.inputs) # * since we don't know how many input we will have\n",
    "                \n",
    "            # Convert lists to numpy arrays\n",
    "            if type(node.output) == list:\n",
    "                node.output = np.array(node.output)\n",
    "        \n",
    "        # Return the requested node value\n",
    "        return operation.output\n",
    "\n",
    "\n"
   ]
  },
  {
   "cell_type": "markdown",
   "metadata": {},
   "source": [
    "Now finally we can implement our simple graph"
   ]
  },
  {
   "cell_type": "code",
   "execution_count": 186,
   "metadata": {},
   "outputs": [
    {
     "data": {
      "text/plain": [
       "101"
      ]
     },
     "execution_count": 186,
     "metadata": {},
     "output_type": "execute_result"
    }
   ],
   "source": [
    "sess = Session()\n",
    "result = sess.run(operation=z,feed_dict={x:10})\n",
    "result"
   ]
  },
  {
   "cell_type": "markdown",
   "metadata": {},
   "source": [
    "Now lets deal with matrix"
   ]
  },
  {
   "cell_type": "code",
   "execution_count": 187,
   "metadata": {
    "collapsed": true
   },
   "outputs": [],
   "source": [
    "g = Graph()\n",
    "g.set_as_default()\n",
    "A = Variable([[1,5],[2,3]])\n",
    "b = Variable([2,9])\n",
    "x = Placeholder()\n",
    "y = matmul(A,x)\n",
    "z = add(y,b)"
   ]
  },
  {
   "cell_type": "code",
   "execution_count": 188,
   "metadata": {},
   "outputs": [
    {
     "data": {
      "text/plain": [
       "array([[ 7, 34],\n",
       "       [12, 24]])"
      ]
     },
     "execution_count": 188,
     "metadata": {},
     "output_type": "execute_result"
    }
   ],
   "source": [
    "sess = Session()\n",
    "result = sess.run(operation=z,feed_dict={x:5})\n",
    "result"
   ]
  },
  {
   "cell_type": "markdown",
   "metadata": {},
   "source": [
    "Now with our neural network infrastructure taken care of\n",
    "let's  do a classification task"
   ]
  },
  {
   "cell_type": "markdown",
   "metadata": {},
   "source": [
    "But first of all lets introduce activation functions"
   ]
  },
  {
   "cell_type": "markdown",
   "metadata": {},
   "source": [
    "### Activation Function"
   ]
  },
  {
   "cell_type": "code",
   "execution_count": 190,
   "metadata": {},
   "outputs": [],
   "source": [
    "import matplotlib.pyplot as plt\n",
    "%matplotlib inline"
   ]
  },
  {
   "cell_type": "markdown",
   "metadata": {},
   "source": [
    "#### sigmoid function"
   ]
  },
  {
   "cell_type": "code",
   "execution_count": 191,
   "metadata": {},
   "outputs": [
    {
     "data": {
      "text/plain": [
       "[<matplotlib.lines.Line2D at 0x11a9fc550>]"
      ]
     },
     "execution_count": 191,
     "metadata": {},
     "output_type": "execute_result"
    },
    {
     "data": {
      "image/png": "[encoded data removed]",
      "text/plain": [
       "<Figure size 432x288 with 1 Axes>"
      ]
     },
     "metadata": {},
     "output_type": "display_data"
    }
   ],
   "source": [
    "def sigmoid(z):\n",
    "    return 1/(1+np.exp(-z))\n",
    "\n",
    "x = np.linspace(-5,5,100)\n",
    "y = sigmoid(x)\n",
    "\n",
    "plt.plot(x,y)"
   ]
  },
  {
   "cell_type": "markdown",
   "metadata": {},
   "source": [
    "Let's define sigmoid as an operation"
   ]
  },
  {
   "cell_type": "code",
   "execution_count": 192,
   "metadata": {
    "collapsed": true
   },
   "outputs": [],
   "source": [
    "class Sigmoid(Operation):\n",
    "    def __init__(self,z):\n",
    "        super().__init__([z])\n",
    "        \n",
    "    def compute(self,z_value):\n",
    "        return 1/(1+np.exp(-z_value))"
   ]
  },
  {
   "cell_type": "markdown",
   "metadata": {},
   "source": [
    "Now let's make some data for our classification problem"
   ]
  },
  {
   "cell_type": "code",
   "execution_count": 193,
   "metadata": {
    "collapsed": true
   },
   "outputs": [],
   "source": [
    "from sklearn.datasets import make_blobs\n",
    "data = make_blobs(n_samples=100,n_features = 2,centers=2,random_state=1)"
   ]
  },
  {
   "cell_type": "code",
   "execution_count": 195,
   "metadata": {},
   "outputs": [
    {
     "data": {
      "text/plain": [
       "(array([[-7.94152277e-01,  2.10495117e+00],\n",
       "        [-9.15155186e+00, -4.81286449e+00],\n",
       "        [-3.10367371e+00,  3.90202401e+00],\n",
       "        [-1.42946517e+00,  5.16850105e+00],\n",
       "        [-7.46938680e+00, -4.20198333e+00],\n",
       "        [-9.19585147e+00, -3.90678125e+00],\n",
       "        [-9.31764266e+00, -4.27315015e+00],\n",
       "        [-9.20490564e+00, -4.57687928e+00],\n",
       "        [-2.76017908e+00,  5.55121358e+00],\n",
       "        [-1.17104176e+00,  4.33091816e+00],\n",
       "        [-1.00364080e+01, -5.56912090e+00],\n",
       "        [-1.53773863e+00,  5.53597378e+00],\n",
       "        [-1.01081595e+01, -4.57071061e+00],\n",
       "        [-2.40671820e+00,  6.09894447e+00],\n",
       "        [-7.80701277e+00, -5.84970947e+00],\n",
       "        [-9.01137732e+00, -3.73981465e+00],\n",
       "        [-9.76521794e+00, -3.27079714e+00],\n",
       "        [-2.34673261e+00,  3.56128423e+00],\n",
       "        [-2.00341358e+00,  4.45008673e+00],\n",
       "        [-1.10926243e+01, -3.78396611e+00],\n",
       "        [-9.43495141e+00, -3.71261146e+00],\n",
       "        [-1.02639310e+01, -3.92073400e+00],\n",
       "        [-9.74891334e+00, -4.24998970e+00],\n",
       "        [-1.34052081e+00,  4.15711949e+00],\n",
       "        [-2.03484486e+00,  3.76775946e+00],\n",
       "        [-1.03078293e+01, -6.38818631e+00],\n",
       "        [-9.55634806e+00, -4.05350378e+00],\n",
       "        [-1.35938959e+00,  4.05424002e+00],\n",
       "        [-1.97451969e-01,  2.34634916e+00],\n",
       "        [-9.47713617e+00, -5.09768994e+00],\n",
       "        [-1.92744799e+00,  4.93684534e+00],\n",
       "        [-2.80207810e+00,  4.05714715e+00],\n",
       "        [-1.05148070e+01, -4.95037538e+00],\n",
       "        [-1.85139546e+00,  3.51886090e+00],\n",
       "        [-8.37006175e+00, -3.61533685e+00],\n",
       "        [-1.01842823e+01, -4.05509442e+00],\n",
       "        [-4.60642026e-01,  4.59164629e+00],\n",
       "        [-1.13708298e+01, -3.63818916e+00],\n",
       "        [-1.01786328e+01, -4.55726918e+00],\n",
       "        [-1.01341572e+01, -4.07240274e+00],\n",
       "        [-9.71704743e+00, -4.02646125e+00],\n",
       "        [-9.64716652e+00, -5.26563196e+00],\n",
       "        [-1.98197711e+00,  4.02243551e+00],\n",
       "        [-1.12277706e+01, -3.40281105e+00],\n",
       "        [-1.46126019e+00,  4.52549851e+00],\n",
       "        [-9.46824718e+00, -3.81564734e+00],\n",
       "        [-7.57969185e-01,  4.90898421e+00],\n",
       "        [ 5.26015501e-01,  3.00999353e+00],\n",
       "        [-2.77687025e+00,  4.64090557e+00],\n",
       "        [-1.78245013e+00,  3.47072043e+00],\n",
       "        [-1.88188805e+00,  4.20573180e+00],\n",
       "        [-9.33866271e+00, -5.58078689e+00],\n",
       "        [-9.91989138e+00, -3.33496829e+00],\n",
       "        [-1.03985907e+01, -3.12934293e+00],\n",
       "        [-1.53940095e+00,  5.02369298e+00],\n",
       "        [-9.50250118e+00, -4.12805171e+00],\n",
       "        [-2.27956075e+00,  5.10452190e+00],\n",
       "        [-8.72395657e+00, -1.98624680e+00],\n",
       "        [-1.61734616e+00,  4.98930508e+00],\n",
       "        [-1.14663009e+00,  4.10839703e+00],\n",
       "        [-1.47299851e+00,  4.81654152e+00],\n",
       "        [-1.06446292e+01, -3.05186166e+00],\n",
       "        [-9.49452769e+00, -2.66012266e+00],\n",
       "        [-1.00223295e+01, -4.72851017e+00],\n",
       "        [-1.18556944e+01, -2.71718452e+00],\n",
       "        [-8.66625539e+00, -4.24065641e+00],\n",
       "        [-2.41395785e+00,  5.65935802e+00],\n",
       "        [-1.12702713e+01, -3.63980083e+00],\n",
       "        [-1.83198811e+00,  3.52863145e+00],\n",
       "        [-1.23606555e+00,  4.48382994e+00],\n",
       "        [-9.59422086e+00, -3.35977002e+00],\n",
       "        [-9.25715605e+00, -4.90704915e+00],\n",
       "        [-9.39539322e+00, -3.53306634e+00],\n",
       "        [-8.20576492e-01,  5.33759195e+00],\n",
       "        [ 2.42271161e-04,  5.14853403e+00],\n",
       "        [-1.34392496e+00,  2.38428865e+00],\n",
       "        [-9.12882635e+00, -3.20293691e+00],\n",
       "        [-9.95404351e+00, -4.17966279e+00],\n",
       "        [-2.18773166e+00,  3.33352125e+00],\n",
       "        [-2.10668847e+00,  5.63099757e+00],\n",
       "        [-5.27930518e-01,  5.92630669e+00],\n",
       "        [-1.11969805e+01, -3.09000323e+00],\n",
       "        [-1.49952284e+00,  5.28265879e+00],\n",
       "        [-8.09305380e+00, -2.84229185e+00],\n",
       "        [-2.35122066e+00,  4.00973634e+00],\n",
       "        [-5.25790464e-01,  3.30659860e+00],\n",
       "        [-1.46864442e+00,  6.50674501e+00],\n",
       "        [-7.58703957e-01,  3.72276201e+00],\n",
       "        [-1.96576392e+00,  5.23446451e+00],\n",
       "        [-2.33080604e+00,  4.39382527e+00],\n",
       "        [-8.83737393e+00, -3.58385583e+00],\n",
       "        [-1.60875215e+00,  3.76949422e+00],\n",
       "        [-1.86845414e+00,  4.99311306e+00],\n",
       "        [-2.33022219e+00,  4.78405366e+00],\n",
       "        [-8.87629480e+00, -3.54444801e+00],\n",
       "        [-8.95888790e+00, -1.76636890e+00],\n",
       "        [-9.98030310e+00, -5.07536728e+00],\n",
       "        [-1.37397258e+00,  5.29163103e+00],\n",
       "        [-9.18676083e+00, -2.90890645e+00],\n",
       "        [ 8.52518583e-02,  3.64528297e+00]]),\n",
       " array([0, 1, 0, 0, 1, 1, 1, 1, 0, 0, 1, 0, 1, 0, 1, 1, 1, 0, 0, 1, 1, 1,\n",
       "        1, 0, 0, 1, 1, 0, 0, 1, 0, 0, 1, 0, 1, 1, 0, 1, 1, 1, 1, 1, 0, 1,\n",
       "        0, 1, 0, 0, 0, 0, 0, 1, 1, 1, 0, 1, 0, 1, 0, 0, 0, 1, 1, 1, 1, 1,\n",
       "        0, 1, 0, 0, 1, 1, 1, 0, 0, 0, 1, 1, 0, 0, 0, 1, 0, 1, 0, 0, 0, 0,\n",
       "        0, 0, 1, 0, 0, 0, 1, 1, 1, 0, 1, 0]))"
      ]
     },
     "execution_count": 195,
     "metadata": {},
     "output_type": "execute_result"
    }
   ],
   "source": [
    "data"
   ]
  },
  {
   "cell_type": "markdown",
   "metadata": {},
   "source": [
    "lets construct features and target"
   ]
  },
  {
   "cell_type": "code",
   "execution_count": 196,
   "metadata": {
    "collapsed": true
   },
   "outputs": [],
   "source": [
    "features = data[0]\n",
    "target = data[1]"
   ]
  },
  {
   "cell_type": "markdown",
   "metadata": {},
   "source": [
    "Lets visualize the feature set and color them by target"
   ]
  },
  {
   "cell_type": "code",
   "execution_count": 200,
   "metadata": {},
   "outputs": [
    {
     "data": {
      "text/plain": [
       "<matplotlib.collections.PathCollection at 0x1a1cbdbe80>"
      ]
     },
     "execution_count": 200,
     "metadata": {},
     "output_type": "execute_result"
    },
    {
     "data": {
      "image/png": "[encoded data removed]",
      "text/plain": [
       "<Figure size 432x288 with 1 Axes>"
      ]
     },
     "metadata": {},
     "output_type": "display_data"
    }
   ],
   "source": [
    "plt.scatter(features[:,0],features[:,1],c=target)"
   ]
  },
  {
   "cell_type": "markdown",
   "metadata": {},
   "source": [
    "Lets manually draw a line to separate the data"
   ]
  },
  {
   "cell_type": "code",
   "execution_count": 203,
   "metadata": {},
   "outputs": [
    {
     "data": {
      "text/plain": [
       "[<matplotlib.lines.Line2D at 0x1a1ce7fcf8>]"
      ]
     },
     "execution_count": 203,
     "metadata": {},
     "output_type": "execute_result"
    },
    {
     "data": {
      "image/png": "[encoded data removed]",
      "text/plain": [
       "<Figure size 432x288 with 1 Axes>"
      ]
     },
     "metadata": {},
     "output_type": "display_data"
    }
   ],
   "source": [
    "x = np.linspace(-12,0,10)\n",
    "y = -x -5\n",
    "plt.scatter(features[:,0],features[:,1],c=target)\n",
    "plt.plot(x,y)"
   ]
  },
  {
   "cell_type": "markdown",
   "metadata": {},
   "source": [
    "Now Lets define our perceptron using matrix representation of featuers"
   ]
  },
  {
   "cell_type": "markdown",
   "metadata": {},
   "source": [
    "## Defining the Perceptron\n",
    "\n",
    "$$ y = mx + b $$\n",
    "\n",
    "$$ y = -x - 5 $$\n",
    "\n",
    "$$ f1 = mf2 + b , m=1$$\n",
    "\n",
    "$$ f1 = -f2 + 5 $$\n",
    "\n",
    "$$ f1 + f2 - 5 = 0 $$\n",
    "\n",
    "Basically here, f1 is feature 1 which is **x** and f2 is feature 2 which is **y**"
   ]
  },
  {
   "cell_type": "markdown",
   "metadata": {},
   "source": [
    "### Convert to a Matrix Representation of Features"
   ]
  },
  {
   "cell_type": "markdown",
   "metadata": {},
   "source": [
    "$$ w^Tx + b = 0 $$\n",
    "\n",
    "$$   \\Big(1, 1\\Big)f - 5 = 0 $$\n",
    "\n",
    "Then if the result is > 0 its target 1, if it is less than 0, it is target=0"
   ]
  },
  {
   "cell_type": "markdown",
   "metadata": {},
   "source": [
    "### Example Point\n",
    "\n",
    "Let's say we have the point f1=2 , f2=2 otherwise stated as (2,2). Then we have:\n",
    "\n",
    "$$ \n",
    "\\begin{pmatrix} \n",
    "1 , 1\n",
    "\\end{pmatrix} \n",
    "\\begin{pmatrix} \n",
    "2 \\\\\n",
    "2\n",
    "\\end{pmatrix} - 5 =  $$"
   ]
  },
  {
   "cell_type": "code",
   "execution_count": 206,
   "metadata": {},
   "outputs": [
    {
     "data": {
      "text/plain": [
       "-1"
      ]
     },
     "execution_count": 206,
     "metadata": {},
     "output_type": "execute_result"
    }
   ],
   "source": [
    "np.array([1,1]).dot(np.array([2,2])) - 5"
   ]
  },
  {
   "cell_type": "markdown",
   "metadata": {},
   "source": [
    "Which is correctly specified as target = 0"
   ]
  },
  {
   "cell_type": "markdown",
   "metadata": {},
   "source": [
    "Or if we have point (0,6)"
   ]
  },
  {
   "cell_type": "code",
   "execution_count": 207,
   "metadata": {},
   "outputs": [
    {
     "data": {
      "text/plain": [
       "1"
      ]
     },
     "execution_count": 207,
     "metadata": {},
     "output_type": "execute_result"
    }
   ],
   "source": [
    "np.array([1,1]).dot(np.array([0,6])) - 5"
   ]
  },
  {
   "cell_type": "markdown",
   "metadata": {},
   "source": [
    "it is correctly specified as target = 1"
   ]
  },
  {
   "cell_type": "markdown",
   "metadata": {},
   "source": [
    "## Now lets do this using our simple neural network"
   ]
  },
  {
   "cell_type": "code",
   "execution_count": 208,
   "metadata": {
    "collapsed": true
   },
   "outputs": [],
   "source": [
    "g = Graph()"
   ]
  },
  {
   "cell_type": "code",
   "execution_count": 209,
   "metadata": {
    "collapsed": true
   },
   "outputs": [],
   "source": [
    "g.set_as_default()"
   ]
  },
  {
   "cell_type": "code",
   "execution_count": 210,
   "metadata": {
    "collapsed": true
   },
   "outputs": [],
   "source": [
    "x =Placeholder()"
   ]
  },
  {
   "cell_type": "code",
   "execution_count": 211,
   "metadata": {
    "collapsed": true
   },
   "outputs": [],
   "source": [
    "w = Variable([1,1])\n"
   ]
  },
  {
   "cell_type": "code",
   "execution_count": 212,
   "metadata": {
    "collapsed": true
   },
   "outputs": [],
   "source": [
    "b = Variable(-5)"
   ]
  },
  {
   "cell_type": "code",
   "execution_count": 213,
   "metadata": {
    "collapsed": true
   },
   "outputs": [],
   "source": [
    "z = add(matmul(w,x),b)"
   ]
  },
  {
   "cell_type": "code",
   "execution_count": 214,
   "metadata": {
    "collapsed": true
   },
   "outputs": [],
   "source": [
    "a = Sigmoid(z)"
   ]
  },
  {
   "cell_type": "code",
   "execution_count": 216,
   "metadata": {},
   "outputs": [
    {
     "data": {
      "text/plain": [
       "0.2689414213699951"
      ]
     },
     "execution_count": 216,
     "metadata": {},
     "output_type": "execute_result"
    }
   ],
   "source": [
    "sess = Session()\n",
    "sess.run(operation=a,feed_dict={x:[2,2]})\n"
   ]
  },
  {
   "cell_type": "markdown",
   "metadata": {},
   "source": [
    "This number illustrate the probability of point (1,1)\n",
    "being labeled as 1 since it is low we label this point as 0"
   ]
  },
  {
   "cell_type": "code",
   "execution_count": 217,
   "metadata": {},
   "outputs": [
    {
     "data": {
      "text/plain": [
       "0.7310585786300049"
      ]
     },
     "execution_count": 217,
     "metadata": {},
     "output_type": "execute_result"
    }
   ],
   "source": [
    "sess.run(operation=a,feed_dict={x:[0,6]})"
   ]
  },
  {
   "cell_type": "markdown",
   "metadata": {},
   "source": [
    "Same as above"
   ]
  },
  {
   "cell_type": "code",
   "execution_count": null,
   "metadata": {
    "collapsed": true
   },
   "outputs": [],
   "source": []
  }
 ],
 "metadata": {
  "kernelspec": {
   "display_name": "Python 3",
   "language": "python",
   "name": "python3"
  },
  "language_info": {
   "codemirror_mode": {
    "name": "ipython",
    "version": 3
   },
   "file_extension": ".py",
   "mimetype": "text/x-python",
   "name": "python",
   "nbconvert_exporter": "python",
   "pygments_lexer": "ipython3",
   "version": "3.6.3"
  }
 },
 "nbformat": 4,
 "nbformat_minor": 2
}
